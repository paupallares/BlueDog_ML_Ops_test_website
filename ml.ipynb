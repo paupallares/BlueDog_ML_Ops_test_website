{
 "cells": [
  {
   "cell_type": "code",
   "execution_count": 1,
   "metadata": {},
   "outputs": [],
   "source": [
    "import nltk\n",
    "from sklearn.feature_extraction.text import TfidfVectorizer\n",
    "from nltk.corpus import stopwords\n",
    "from nltk.stem import WordNetLemmatizer\n",
    "import re\n",
    "import pandas as pd\n",
    "from sklearn.model_selection import train_test_split\n",
    "from sklearn.tree import DecisionTreeClassifier\n",
    "from sklearn.preprocessing import OneHotEncoder\n",
    "from sklearn.metrics import accuracy_score, classification_report\n",
    "from scipy.sparse import hstack\n",
    "import numpy as np\n"
   ]
  },
  {
   "cell_type": "code",
   "execution_count": 2,
   "metadata": {},
   "outputs": [],
   "source": [
    "import mysql.connector\n",
    "\n",
    "conn = mysql.connector.connect(\n",
    "    host=\"localhost\",\n",
    "    user=\"root\",\n",
    "    password=\"\",\n",
    "    database=\"user_answer\",\n",
    "    port=3307 \n",
    ")"
   ]
  },
  {
   "cell_type": "code",
   "execution_count": 3,
   "metadata": {},
   "outputs": [
    {
     "name": "stdout",
     "output_type": "stream",
     "text": [
      "('carpenter', 'secondary school', 'part-time', 'only weekdays', 'wants to specialize in cabinetry', 'Construction Apprenticeships')\n",
      "('marketing', 'master degree', 'only weekends', 'only weekdays', 'aims to harness social media platforms', 'Manage finances for new business ventures')\n",
      "('hospitality', 'diploma', 'full-time', 'i already have a job', 'aspires to open a chain of cafes', 'Prepare to work safely in the construction industry')\n",
      "('construction', 'high school', 'part-time', 'full-time', 'wants to master brick laying techniques', 'Builder Restricted licences')\n",
      "('electrician', 'master degree', 'part-time', 'only weekends', 'keen on renewable energy systems', 'Home Electrical Installation and Safety')\n",
      "('plumbing', 'diploma', 'only weekends', 'only weekdays', 'wishes to understand sewage systems better', 'Plumbing Business Management and Operations')\n",
      "('painting', 'bachelor degree', 'full-time', 'part-time', 'dreams of having an art exhibition', 'Certificate IV in Building and Construction')\n",
      "('gardening', 'master degree', 'part-time', 'i already have a job', 'enthusiastic about botanical gardens', 'Certificate II in Engineering Pathways')\n",
      "('carpenter', 'diploma', 'full-time', 'part-time', 'wants to learn more about wood types', 'Construction Apprenticeships')\n",
      "('marketing', 'bachelor degree', 'full-time', 'only weekdays', 'wishes to improve SEO strategies', 'Manage finances for new business ventures')\n",
      "('hospitality', 'secondary school', 'part-time', 'only weekends', 'aims to be a top chef', 'Prepare to work safely in the construction industry')\n",
      "('construction', 'diploma', 'only weekends', 'only weekdays', 'enthusiastic about urban planning', 'Builder Restricted licences')\n",
      "('electrician', 'high school', 'full-time', 'i already have a job', 'wants to specialize in electronics repair', 'Home Electrical Installation and Safety')\n",
      "('plumbing', 'bachelor degree', 'only weekends', 'full-time', 'aims for international plumbing standards', 'Plumbing Business Management and Operations')\n",
      "('painting', 'master degree', 'full-time', 'only weekends', 'wishes to learn fresco techniques', 'Certificate IV in Building and Construction')\n",
      "('gardening', 'high school', 'part-time', 'only weekdays', 'dreams of starting an organic farm', 'Certificate II in Engineering Pathways')\n",
      "('carpenter', 'high school', 'full-time', 'only weekdays', 'interested in house framing', 'Construction Apprenticeships')\n",
      "('marketing', 'high school', 'part-time', 'i already have a job', 'wants to understand consumer behavior', 'Manage finances for new business ventures')\n",
      "('hospitality', 'bachelor degree', 'only weekends', 'only weekdays', 'aspires to manage a hotel chain', 'Prepare to work safely in the construction industry')\n",
      "('construction', 'diploma', 'part-time', 'only weekends', 'hopes to become a site manager', 'Builder Restricted licences')\n",
      "('electrician', 'high school', 'full-time', 'part-time', 'aiming to work in industrial settings', 'Home Electrical Installation and Safety')\n",
      "('plumbing', 'bachelor degree', 'only weekends', 'only weekdays', 'dreams of starting a plumbing business', 'Plumbing Business Management and Operations')\n",
      "('painting', 'diploma', 'part-time', 'i already have a job', 'enthusiastic about mural art', 'Certificate IV in Building and Construction')\n",
      "('gardening', 'secondary school', 'full-time', 'only weekends', 'interested in organic farming', 'Certificate II in Engineering Pathways')\n",
      "('carpenter', 'diploma', 'full-time', 'full-time', 'passionate about furniture design', 'Construction Apprenticeships')\n",
      "('marketing', 'bachelor degree', 'part-time', 'part-time', 'wants to explore digital advertising', 'Manage finances for new business ventures')\n",
      "('hospitality', 'high school', 'only weekends', 'i already have a job', 'enthusiastic about event management', 'Prepare to work safely in the construction industry')\n",
      "('construction', 'secondary school', 'part-time', 'full-time', 'keen on infrastructure projects', 'Builder Restricted licences')\n",
      "('electrician', 'diploma', 'full-time', 'only weekends', 'focused on power plant operations', 'Home Electrical Installation and Safety')\n",
      "('plumbing', 'secondary school', 'part-time', 'i already have a job', 'aiming for large-scale projects', 'Plumbing Business Management and Operations')\n",
      "('painting', 'bachelor degree', 'only weekends', 'only weekdays', 'loves abstract art creation', 'Certificate IV in Building and Construction')\n",
      "('gardening', 'diploma', 'full-time', 'full-time', 'focused on urban gardening techniques', 'Certificate II in Engineering Pathways')\n",
      "('carpenter', 'high school', 'only weekends', 'full-time', 'dream of creating bespoke furniture', 'Construction Apprenticeships')\n",
      "('marketing', 'bachelor degree', 'full-time', 'only weekends', 'expand into international markets', 'Manage finances for new business ventures')\n",
      "('hospitality', 'diploma', 'part-time', 'i already have a job', 'focus on culinary arts', 'Prepare to work safely in the construction industry')\n",
      "('construction', 'high school', 'full-time', 'only weekdays', 'master modern construction tools', 'Builder Restricted licences')\n",
      "('electrician', 'diploma', 'only weekends', 'full-time', 'specialize in circuit designs', 'Home Electrical Installation and Safety')\n",
      "('plumbing', 'high school', 'part-time', 'only weekdays', 'create sustainable water systems', 'Plumbing Business Management and Operations')\n",
      "('painting', 'secondary school', 'full-time', 'i already have a job', 'learn advanced art techniques', 'Certificate IV in Building and Construction')\n",
      "('gardening', 'diploma', 'part-time', 'only weekdays', 'develop botanical gardens', 'Certificate II in Engineering Pathways')\n",
      "('carpenter', 'diploma', 'only weekends', 'part-time', 'aim for architectural woodwork', 'Construction Apprenticeships')\n",
      "('marketing', 'secondary school', 'full-time', 'only weekdays', 'develop a niche in influencer marketing', 'Manage finances for new business ventures')\n",
      "('hospitality', 'bachelor degree', 'part-time', 'only weekends', 'seeking to run a resort', 'Prepare to work safely in the construction industry')\n",
      "('construction', 'diploma', 'only weekends', 'i already have a job', 'build sustainable houses', 'Builder Restricted licences')\n",
      "('electrician', 'secondary school', 'part-time', 'full-time', 'understand power distribution', 'Home Electrical Installation and Safety')\n",
      "('plumbing', 'high school', 'only weekends', 'only weekdays', 'aim for eco-friendly solutions', 'Plumbing Business Management and Operations')\n",
      "('painting', 'diploma', 'full-time', 'only weekends', 'aspire to open an art school', 'Certificate IV in Building and Construction')\n",
      "('gardening', 'secondary school', 'part-time', 'only weekdays', 'learn more about exotic plants', 'Certificate II in Engineering Pathways')\n",
      "('carpenter', 'bachelor degree', 'only weekends', 'i already have a job', 'passion for vintage wood designs', 'Construction Apprenticeships')\n",
      "('marketing', 'diploma', 'part-time', 'full-time', 'dive into affiliate marketing', 'Manage finances for new business ventures')\n",
      "('hospitality', 'secondary school', 'full-time', 'part-time', 'specialize in front office operations', 'Prepare to work safely in the construction industry')\n",
      "('construction', 'diploma', 'only weekends', 'only weekdays', 'become a certified construction manager', 'Builder Restricted licences')\n",
      "('electrician', 'high school', 'part-time', 'only weekends', 'deep dive into electronic repairs', 'Home Electrical Installation and Safety')\n",
      "('plumbing', 'bachelor degree', 'full-time', 'part-time', 'create efficient drainage systems', 'Plumbing Business Management and Operations')\n",
      "('painting', 'diploma', 'only weekends', 'full-time', 'explore the world of digital art', 'Certificate IV in Building and Construction')\n",
      "('gardening', 'high school', 'part-time', 'only weekdays', 'discover medicinal plants', 'Certificate II in Engineering Pathways')\n",
      "('carpenter', 'high school', 'full-time', 'part-time', 'want to master woodwork', 'Construction Apprenticeships')\n",
      "('marketing', 'bachelor degree', 'part-time', 'only weekdays', 'aspire to start a marketing firm', 'Manage finances for new business ventures')\n",
      "('hospitality', 'diploma', 'only weekends', 'full-time', 'enhance customer service skills', 'Prepare to work safely in the construction industry')\n",
      "('construction', 'secondary school', 'full-time', 'i already have a job', 'increase my skillset', 'Builder Restricted licences')\n",
      "('electrician', 'diploma', 'part-time', 'only weekends', 'aim to have my own electrical business', 'Home Electrical Installation and Safety')\n",
      "('plumbing', 'high school', 'full-time', 'part-time', 'expand my plumbing knowledge', 'Plumbing Business Management and Operations')\n",
      "('painting', 'secondary school', 'only weekends', 'only weekdays', 'perfect my painting techniques', 'Certificate IV in Building and Construction')\n",
      "('gardening', 'diploma', 'part-time', 'full-time', 'establish a gardening firm', 'Certificate II in Engineering Pathways')\n",
      "('carpenter', 'diploma', 'part-time', 'i already have a job', 'seek specialization in wooden interiors', 'Construction Apprenticeships')\n",
      "('marketing', 'secondary school', 'only weekends', 'part-time', 'develop a career in digital marketing', 'Manage finances for new business ventures')\n",
      "('hospitality', 'bachelor degree', 'full-time', 'only weekdays', 'aim for hotel management', 'Prepare to work safely in the construction industry')\n",
      "('construction', 'high school', 'part-time', 'full-time', 'aspire for construction project management', 'Builder Restricted licences')\n",
      "('electrician', 'secondary school', 'full-time', 'i already have a job', 'looking for specialization in electronics', 'Home Electrical Installation and Safety')\n",
      "('plumbing', 'diploma', 'only weekends', 'part-time', 'want to enhance drainage solutions', 'Plumbing Business Management and Operations')\n",
      "('painting', 'high school', 'full-time', 'only weekends', 'aim to master mural painting', 'Certificate IV in Building and Construction')\n",
      "('gardening', 'secondary school', 'part-time', 'only weekdays', 'desire to learn about organic gardening', 'Certificate II in Engineering Pathways')\n",
      "('carpenter', 'bachelor degree', 'full-time', 'only weekends', 'interested in furniture making', 'Construction Apprenticeships')\n",
      "('marketing', 'diploma', 'part-time', 'full-time', 'want to dive into content marketing', 'Manage finances for new business ventures')\n",
      "('hospitality', 'secondary school', 'only weekends', 'part-time', 'focus on event management', 'Prepare to work safely in the construction industry')\n",
      "('construction', 'diploma', 'part-time', 'i already have a job', 'seeking advanced construction techniques', 'Builder Restricted licences')\n",
      "('electrician', 'high school', 'only weekends', 'full-time', 'interested in smart home installations', 'Home Electrical Installation and Safety')\n",
      "('plumbing', 'bachelor degree', 'full-time', 'only weekdays', 'aspire to handle major plumbing projects', 'Plumbing Business Management and Operations')\n",
      "('painting', 'diploma', 'only weekends', 'part-time', 'focus on art and aesthetics', 'Certificate IV in Building and Construction')\n",
      "('gardening', 'high school', 'full-time', 'i already have a job', 'love to study plant genetics', 'Certificate II in Engineering Pathways')\n",
      "('carpentry', 'high school', 'full-time', 'part-time', 'want to get into construction', 'Construction Apprenticeships')\n",
      "('electrical engineering', 'diploma', 'part-time', 'full-time', 'aspiring electrician', 'Home Electrical Installation and Safety')\n",
      "('plumbing', 'secondary school', 'full-time', 'unemployed', 'want to start my own plumbing business', 'Plumbing Business Management and Operations')\n",
      "('mechanical engineering', 'bachelor degree', 'part-time', 'part-time', 'enhance engineering skills', 'Certificate II in Engineering Pathways')\n",
      "('construction', 'diploma', 'only weekends', 'full-time', 'looking for promotion', 'Certificate IV in Building and Construction')\n",
      "('construction', 'bachelor degree', 'full-time', 'self-employed', 'get building license', 'Builder Restricted licences')\n",
      "('business', 'bachelor degree', 'part-time', 'full-time', 'want to start my own venture', 'Manage finances for new business ventures')\n",
      "('construction', 'high school', 'full-time', 'part-time', 'ensure safety at construction sites', 'Prepare to work safely in the construction industry')\n",
      "('construction management', 'master degree', 'part-time', 'full-time', 'aiming for a supervisory role', 'Site Supervisor Builder Low Rise')\n",
      "('metal fabrication', 'diploma', 'full-time', 'self-employed', 'expand skills in metal fabrication', 'Certificate III in Engineering Fabrication Trade (Boilermaking)')\n",
      "('welding', 'secondary school', 'part-time', 'full-time', 'develop a career in engineering fabrication', 'Certificate III in Engineering Fabrication Trade')\n",
      "('carpentry', 'high school', 'full-time', 'part-time', 'want to get into construction', 'Construction Apprenticeships')\n",
      "('electrical engineering', 'diploma', 'part-time', 'full-time', 'aspiring electrician', 'Home Electrical Installation and Safety')\n",
      "('plumbing', 'secondary school', 'full-time', 'unemployed', 'want to start my own plumbing business', 'Plumbing Business Management and Operations')\n",
      "('mechanical engineering', 'bachelor degree', 'part-time', 'part-time', 'enhance engineering skills', 'Certificate II in Engineering Pathways')\n",
      "('construction', 'diploma', 'only weekends', 'full-time', 'looking for promotion', 'Certificate IV in Building and Construction')\n",
      "('construction', 'bachelor degree', 'full-time', 'self-employed', 'get building license', 'Builder Restricted licences')\n",
      "('business', 'bachelor degree', 'part-time', 'full-time', 'want to start my own venture', 'Manage finances for new business ventures')\n",
      "('construction', 'high school', 'full-time', 'part-time', 'ensure safety at construction sites', 'Prepare to work safely in the construction industry')\n",
      "('construction management', 'master degree', 'part-time', 'full-time', 'aiming for a supervisory role', 'Site Supervisor Builder Low Rise')\n",
      "('metal fabrication', 'diploma', 'full-time', 'self-employed', 'expand skills in metal fabrication', 'Certificate III in Engineering Fabrication Trade (Boilermaking)')\n",
      "('welding', 'secondary school', 'part-time', 'full-time', 'develop a career in engineering fabrication', 'Certificate III in Engineering Fabrication Trade')\n",
      "('carpentry', 'diploma', 'part-time', 'part-time', 'aim to work in big construction firms', 'Construction Apprenticeships')\n",
      "('electrical basics', 'secondary school', 'full-time', 'self-employed', 'planning to open electrical shop', 'Home Electrical Installation and Safety')\n",
      "('plumbing and sanitation', 'high school', 'only weekends', 'self-employed', 'expand my plumbing services', 'Plumbing Business Management and Operations')\n",
      "('automotive engineering', 'diploma', 'full-time', 'part-time', 'aim to transition to general engineering', 'Certificate II in Engineering Pathways')\n",
      "('architecture', 'bachelor degree', 'part-time', 'full-time', 'looking for hands-on building experience', 'Certificate IV in Building and Construction')\n",
      "('construction planning', 'master degree', 'only weekends', 'self-employed', 'want to obtain more certifications', 'Builder Restricted licences')\n",
      "('entrepreneurship', 'master degree', 'part-time', 'full-time', 'prepare for my startup in construction', 'Manage finances for new business ventures')\n",
      "('construction equipment handling', 'high school', 'full-time', 'unemployed', 'need safety certifications', 'Prepare to work safely in the construction industry')\n",
      "('project management', 'bachelor degree', 'full-time', 'part-time', 'seeking leadership roles in construction', 'Site Supervisor Builder Low Rise')\n",
      "('machine handling', 'diploma', 'part-time', 'self-employed', 'want to expand into boilermaking', 'Certificate III in Engineering Fabrication Trade (Boilermaking)')\n"
     ]
    }
   ],
   "source": [
    "cursor = conn.cursor()\n",
    "\n",
    "# Ejemplo de consulta para obtener todos los registros de la tabla answers\n",
    "cursor.execute(\"SELECT * FROM modelTraining\")\n",
    "\n",
    "# Obtener todos los resultados\n",
    "results = cursor.fetchall()\n",
    "\n",
    "for row in results:\n",
    "    print(row)\n"
   ]
  },
  {
   "cell_type": "code",
   "execution_count": 4,
   "metadata": {},
   "outputs": [
    {
     "name": "stderr",
     "output_type": "stream",
     "text": [
      "/var/folders/71/4rl6w509079c20dtbvnqwf1c0000gn/T/ipykernel_41108/2675252006.py:1: UserWarning: pandas only supports SQLAlchemy connectable (engine/connection) or database string URI or sqlite3 DBAPI2 connection. Other DBAPI2 objects are not tested. Please consider using SQLAlchemy.\n",
      "  df = pd.read_sql(\"SELECT * FROM modelTraining\", conn)\n"
     ]
    }
   ],
   "source": [
    "df = pd.read_sql(\"SELECT * FROM modelTraining\", conn)"
   ]
  },
  {
   "cell_type": "code",
   "execution_count": 5,
   "metadata": {},
   "outputs": [
    {
     "data": {
      "text/html": [
       "<div>\n",
       "<style scoped>\n",
       "    .dataframe tbody tr th:only-of-type {\n",
       "        vertical-align: middle;\n",
       "    }\n",
       "\n",
       "    .dataframe tbody tr th {\n",
       "        vertical-align: top;\n",
       "    }\n",
       "\n",
       "    .dataframe thead th {\n",
       "        text-align: right;\n",
       "    }\n",
       "</style>\n",
       "<table border=\"1\" class=\"dataframe\">\n",
       "  <thead>\n",
       "    <tr style=\"text-align: right;\">\n",
       "      <th></th>\n",
       "      <th>interests</th>\n",
       "      <th>education</th>\n",
       "      <th>study_availability</th>\n",
       "      <th>work_availability</th>\n",
       "      <th>goals</th>\n",
       "      <th>recommendation</th>\n",
       "    </tr>\n",
       "  </thead>\n",
       "  <tbody>\n",
       "    <tr>\n",
       "      <th>0</th>\n",
       "      <td>carpenter</td>\n",
       "      <td>secondary school</td>\n",
       "      <td>part-time</td>\n",
       "      <td>only weekdays</td>\n",
       "      <td>wants to specialize in cabinetry</td>\n",
       "      <td>Construction Apprenticeships</td>\n",
       "    </tr>\n",
       "    <tr>\n",
       "      <th>1</th>\n",
       "      <td>marketing</td>\n",
       "      <td>master degree</td>\n",
       "      <td>only weekends</td>\n",
       "      <td>only weekdays</td>\n",
       "      <td>aims to harness social media platforms</td>\n",
       "      <td>Manage finances for new business ventures</td>\n",
       "    </tr>\n",
       "    <tr>\n",
       "      <th>2</th>\n",
       "      <td>hospitality</td>\n",
       "      <td>diploma</td>\n",
       "      <td>full-time</td>\n",
       "      <td>i already have a job</td>\n",
       "      <td>aspires to open a chain of cafes</td>\n",
       "      <td>Prepare to work safely in the construction ind...</td>\n",
       "    </tr>\n",
       "    <tr>\n",
       "      <th>3</th>\n",
       "      <td>construction</td>\n",
       "      <td>high school</td>\n",
       "      <td>part-time</td>\n",
       "      <td>full-time</td>\n",
       "      <td>wants to master brick laying techniques</td>\n",
       "      <td>Builder Restricted licences</td>\n",
       "    </tr>\n",
       "    <tr>\n",
       "      <th>4</th>\n",
       "      <td>electrician</td>\n",
       "      <td>master degree</td>\n",
       "      <td>part-time</td>\n",
       "      <td>only weekends</td>\n",
       "      <td>keen on renewable energy systems</td>\n",
       "      <td>Home Electrical Installation and Safety</td>\n",
       "    </tr>\n",
       "  </tbody>\n",
       "</table>\n",
       "</div>"
      ],
      "text/plain": [
       "      interests         education study_availability     work_availability  \\\n",
       "0     carpenter  secondary school          part-time         only weekdays   \n",
       "1     marketing     master degree      only weekends         only weekdays   \n",
       "2   hospitality           diploma          full-time  i already have a job   \n",
       "3  construction       high school          part-time             full-time   \n",
       "4   electrician     master degree          part-time         only weekends   \n",
       "\n",
       "                                     goals  \\\n",
       "0         wants to specialize in cabinetry   \n",
       "1   aims to harness social media platforms   \n",
       "2         aspires to open a chain of cafes   \n",
       "3  wants to master brick laying techniques   \n",
       "4         keen on renewable energy systems   \n",
       "\n",
       "                                      recommendation  \n",
       "0                       Construction Apprenticeships  \n",
       "1          Manage finances for new business ventures  \n",
       "2  Prepare to work safely in the construction ind...  \n",
       "3                        Builder Restricted licences  \n",
       "4            Home Electrical Installation and Safety  "
      ]
     },
     "execution_count": 5,
     "metadata": {},
     "output_type": "execute_result"
    }
   ],
   "source": [
    "df.head(5)"
   ]
  },
  {
   "cell_type": "code",
   "execution_count": null,
   "metadata": {},
   "outputs": [],
   "source": [
    "# conn.close()"
   ]
  },
  {
   "cell_type": "code",
   "execution_count": 6,
   "metadata": {},
   "outputs": [
    {
     "name": "stderr",
     "output_type": "stream",
     "text": [
      "[nltk_data] Downloading package stopwords to\n",
      "[nltk_data]     /Users/ssanjua/nltk_data...\n",
      "[nltk_data]   Package stopwords is already up-to-date!\n",
      "[nltk_data] Downloading package wordnet to /Users/ssanjua/nltk_data...\n",
      "[nltk_data]   Package wordnet is already up-to-date!\n"
     ]
    },
    {
     "data": {
      "text/plain": [
       "True"
      ]
     },
     "execution_count": 6,
     "metadata": {},
     "output_type": "execute_result"
    }
   ],
   "source": [
    "# Descargar recursos necesarios de nltk\n",
    "nltk.download('stopwords')\n",
    "nltk.download('wordnet')"
   ]
  },
  {
   "cell_type": "code",
   "execution_count": 7,
   "metadata": {},
   "outputs": [],
   "source": [
    "# lematizer y stopwords\n",
    "lemmatizer = WordNetLemmatizer()\n",
    "stop_words = set(stopwords.words('english'))"
   ]
  },
  {
   "cell_type": "code",
   "execution_count": 8,
   "metadata": {},
   "outputs": [],
   "source": [
    "def preprocess_text(text):\n",
    "    # lowercase\n",
    "    text = text.lower()\n",
    "    \n",
    "    # special characters and numbers\n",
    "    text = re.sub(r'[^a-z\\s]', '', text)\n",
    "    \n",
    "    # token\n",
    "    tokens = nltk.word_tokenize(text)\n",
    "    tokens = [lemmatizer.lemmatize(token) for token in tokens if token not in stop_words]\n",
    "    \n",
    "    return ' '.join(tokens)"
   ]
  },
  {
   "cell_type": "code",
   "execution_count": 9,
   "metadata": {},
   "outputs": [
    {
     "name": "stdout",
     "output_type": "stream",
     "text": [
      "want work outside people\n"
     ]
    }
   ],
   "source": [
    "# test preprocessing\n",
    "sample_text = \"I want to work outside and with people\"\n",
    "print(preprocess_text(sample_text))"
   ]
  },
  {
   "cell_type": "code",
   "execution_count": null,
   "metadata": {},
   "outputs": [],
   "source": [
    "# Aplicar preprocesamiento a todo el campo \"goals\" (suponiendo que goals es una lista de textos)\n",
    "goals_processed = [preprocess_text(text) for text in df['goals']]\n",
    "\n",
    "# Vectorizar usando TF-IDF\n",
    "vectorizer = TfidfVectorizer()\n",
    "X_tfidf = vectorizer.fit_transform(goals_processed)"
   ]
  },
  {
   "cell_type": "code",
   "execution_count": null,
   "metadata": {},
   "outputs": [],
   "source": [
    "df['goals'] = df['goals'].apply(preprocess_text)"
   ]
  },
  {
   "cell_type": "code",
   "execution_count": null,
   "metadata": {},
   "outputs": [],
   "source": [
    "X_tfidf"
   ]
  },
  {
   "cell_type": "code",
   "execution_count": null,
   "metadata": {},
   "outputs": [],
   "source": [
    "\n",
    "features = df.drop(columns=['id', 'recommendation', 'goals'])\n",
    "target = df['recommendation']\n",
    "\n",
    "# Convertir variables categóricas a numéricas\n",
    "encoder = OneHotEncoder(drop='first')\n",
    "X_categorical = encoder.fit_transform(features).toarray()\n",
    "X = hstack([X_categorical, X_tfidf]).toarray()\n",
    "y = target\n",
    "\n",
    "# Dividir los datos en conjuntos de entrenamiento y prueba\n",
    "X_train, X_test, y_train, y_test = train_test_split(X, y, test_size=0.2, random_state=42)\n",
    "\n",
    "# Entrenar el árbol de decisión\n",
    "clf = DecisionTreeClassifier(max_depth=10)\n",
    "clf.fit(X_train, y_train)\n",
    "\n",
    "# Predecir en el conjunto de prueba\n",
    "y_pred = clf.predict(X_test)\n",
    "\n",
    "# Evaluar el rendimiento del modelo\n",
    "accuracy = accuracy_score(y_test, y_pred)\n",
    "print(f\"Accuracy: {accuracy*100:.2f}%\")\n",
    "print(\"\\nClassification Report:\\n\", classification_report(y_test, y_pred))\n"
   ]
  },
  {
   "cell_type": "code",
   "execution_count": 21,
   "metadata": {},
   "outputs": [],
   "source": [
    "def train_model(data):\n",
    "\n",
    "    goals_processed = [preprocess_text(text) for text in df['goals']]\n",
    "    # Vectorizar usando TF-IDF\n",
    "    vectorizer = TfidfVectorizer()\n",
    "    X_tfidf = vectorizer.fit_transform(goals_processed)\n",
    "    \n",
    "    # Aquí considero que `data` es tu dataframe (df)\n",
    "    features = df.drop(columns=['recommendation'])\n",
    "    target = df['recommendation']\n",
    "\n",
    "    # Convertir variables categóricas a numéricas\n",
    "    features_without_goals = features.drop(columns=['goals'])\n",
    "    encoder = OneHotEncoder(drop='first', handle_unknown='ignore')\n",
    "    X_categorical = encoder.fit_transform(features_without_goals).toarray()\n",
    "\n",
    "\n",
    "    X = hstack([X_categorical, X_tfidf]).toarray()\n",
    "    y = target\n",
    "\n",
    "    # Dividir los datos en conjuntos de entrenamiento y prueba\n",
    "    X_train, X_test, y_train, y_test = train_test_split(X, y, test_size=0.2, random_state=42)\n",
    "\n",
    "    # Entrenar el árbol de decisión\n",
    "    clf = DecisionTreeClassifier(max_depth=15)\n",
    "    clf.fit(X_train, y_train)\n",
    "\n",
    "    return encoder, vectorizer, clf\n"
   ]
  },
  {
   "cell_type": "code",
   "execution_count": 23,
   "metadata": {},
   "outputs": [
    {
     "name": "stdout",
     "output_type": "stream",
     "text": [
      "Certificate IV in Building and Construction\n"
     ]
    },
    {
     "name": "stderr",
     "output_type": "stream",
     "text": [
      "/Library/Frameworks/Python.framework/Versions/3.11/lib/python3.11/site-packages/sklearn/preprocessing/_encoders.py:202: UserWarning: Found unknown categories in columns [1] during transform. These unknown categories will be encoded as all zeros\n",
      "  warnings.warn(\n"
     ]
    }
   ],
   "source": [
    "\n",
    "def recommend_course(interests, education, study_availability, work_availability, goals, encoder, vectorizer, clf):\n",
    "    \n",
    "    # Procesar el texto\n",
    "    goals_processed = preprocess_text(goals)\n",
    "    \n",
    "    # Vectorizar usando TF-IDF\n",
    "    goals_vectorized = vectorizer.transform([goals_processed])\n",
    "\n",
    "    user_data = pd.DataFrame({\n",
    "        'interests': [interests],\n",
    "        'education': [education],\n",
    "        'study_availability': [study_availability],\n",
    "        'work_availability': [work_availability],\n",
    "        'goals': [goals_processed]\n",
    "    })\n",
    "\n",
    "    # Codificar datos del usuario\n",
    "    user_encoded = encoder.transform(user_data.drop(columns=['goals'])).toarray()\n",
    "\n",
    "    # Combina las características categóricas con la matriz TF-IDF\n",
    "    user_combined = np.hstack([user_encoded, goals_vectorized.toarray()])\n",
    "\n",
    "    # Predecir con el modelo\n",
    "    recommendation = clf.predict(user_combined)\n",
    "\n",
    "    return recommendation[0]\n",
    "\n",
    "# Suponiendo que `df` es tu DataFrame original:\n",
    "encoder, vectorizer, clf = train_model(df)\n",
    "\n",
    "# Para usar la función de recomendación:\n",
    "course = recommend_course(\"painting\", \"masters\", \"part-time\", \"full-time\", \"become more human\", encoder, vectorizer, clf)\n",
    "print(course)\n"
   ]
  },
  {
   "cell_type": "code",
   "execution_count": 26,
   "metadata": {},
   "outputs": [
    {
     "name": "stdout",
     "output_type": "stream",
     "text": [
      "['secondary school' 'master degree' 'diploma' 'high school'\n",
      " 'bachelor degree']\n"
     ]
    }
   ],
   "source": [
    "print(df['education'].unique())  # Durante el entrenamiento\n"
   ]
  },
  {
   "cell_type": "code",
   "execution_count": 25,
   "metadata": {},
   "outputs": [
    {
     "data": {
      "text/plain": [
       "['clf.joblib']"
      ]
     },
     "execution_count": 25,
     "metadata": {},
     "output_type": "execute_result"
    }
   ],
   "source": [
    "from joblib import dump, load\n",
    "\n",
    "encoder, vectorizer, clf = train_model(df)\n",
    "\n",
    "dump(encoder, 'encoder.joblib')\n",
    "dump(vectorizer, 'vectorizer.joblib')\n",
    "dump(clf, 'clf.joblib')\n"
   ]
  },
  {
   "cell_type": "code",
   "execution_count": 14,
   "metadata": {},
   "outputs": [
    {
     "name": "stdout",
     "output_type": "stream",
     "text": [
      "<class 'pandas.core.frame.DataFrame'>\n",
      "RangeIndex: 69 entries, 0 to 68\n",
      "Data columns (total 7 columns):\n",
      " #   Column              Non-Null Count  Dtype \n",
      "---  ------              --------------  ----- \n",
      " 0   id                  69 non-null     int64 \n",
      " 1   interests           69 non-null     object\n",
      " 2   education           69 non-null     object\n",
      " 3   study_availability  69 non-null     object\n",
      " 4   work_availability   69 non-null     object\n",
      " 5   goals               69 non-null     object\n",
      " 6   recommendation      69 non-null     object\n",
      "dtypes: int64(1), object(6)\n",
      "memory usage: 3.9+ KB\n"
     ]
    }
   ],
   "source": [
    "df.info()"
   ]
  },
  {
   "cell_type": "code",
   "execution_count": null,
   "metadata": {},
   "outputs": [],
   "source": []
  }
 ],
 "metadata": {
  "kernelspec": {
   "display_name": "Python 3",
   "language": "python",
   "name": "python3"
  },
  "language_info": {
   "codemirror_mode": {
    "name": "ipython",
    "version": 3
   },
   "file_extension": ".py",
   "mimetype": "text/x-python",
   "name": "python",
   "nbconvert_exporter": "python",
   "pygments_lexer": "ipython3",
   "version": "3.11.1"
  },
  "orig_nbformat": 4
 },
 "nbformat": 4,
 "nbformat_minor": 2
}
