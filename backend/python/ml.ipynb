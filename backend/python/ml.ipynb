{
 "cells": [
  {
   "cell_type": "code",
   "execution_count": 1,
   "metadata": {},
   "outputs": [],
   "source": [
    "# import all libraries\n",
    "import nltk\n",
    "from sklearn.feature_extraction.text import TfidfVectorizer\n",
    "from nltk.corpus import stopwords\n",
    "from nltk.stem import WordNetLemmatizer\n",
    "import re\n",
    "import pandas as pd\n",
    "from sklearn.model_selection import train_test_split\n",
    "from sklearn.tree import DecisionTreeClassifier\n",
    "from sklearn.preprocessing import OneHotEncoder\n",
    "from sklearn.metrics import accuracy_score, classification_report\n",
    "from scipy.sparse import hstack\n",
    "import numpy as np\n",
    "\n",
    "import warnings\n",
    "warnings.simplefilter(action='ignore', category=Warning)"
   ]
  },
  {
   "cell_type": "code",
   "execution_count": 2,
   "metadata": {},
   "outputs": [
    {
     "name": "stdout",
     "output_type": "stream",
     "text": [
      "Name: scikit-learn\n",
      "Version: 1.2.2\n",
      "Summary: A set of python modules for machine learning and data mining\n",
      "Home-page: http://scikit-learn.org\n",
      "Author: \n",
      "Author-email: \n",
      "License: new BSD\n",
      "Location: /Library/Frameworks/Python.framework/Versions/3.11/lib/python3.11/site-packages\n",
      "Requires: joblib, numpy, scipy, threadpoolctl\n",
      "Required-by: \n",
      "Note: you may need to restart the kernel to use updated packages.\n"
     ]
    }
   ],
   "source": [
    "pip show scikit-learn"
   ]
  },
  {
   "cell_type": "code",
   "execution_count": 3,
   "metadata": {},
   "outputs": [
    {
     "name": "stdout",
     "output_type": "stream",
     "text": [
      "Name: sklearn\n",
      "Version: 0.0.post4\n",
      "Summary: deprecated sklearn package, use scikit-learn instead\n",
      "Home-page: \n",
      "Author: \n",
      "Author-email: \n",
      "License: \n",
      "Location: /Library/Frameworks/Python.framework/Versions/3.11/lib/python3.11/site-packages\n",
      "Requires: \n",
      "Required-by: \n",
      "Note: you may need to restart the kernel to use updated packages.\n"
     ]
    }
   ],
   "source": [
    "pip show sklearn"
   ]
  },
  {
   "cell_type": "code",
   "execution_count": 36,
   "metadata": {},
   "outputs": [],
   "source": [
    "# import the necessary library for MySQL database connection\n",
    "import mysql.connector\n",
    "\n",
    "# establish a connection to the MySQL database\n",
    "conn = mysql.connector.connect(\n",
    "    host=\"localhost\",\n",
    "    user=\"root\",\n",
    "    password=\"\",\n",
    "    database=\"user_answer\",\n",
    "    port=3307\n",
    ")"
   ]
  },
  {
   "cell_type": "code",
   "execution_count": 37,
   "metadata": {},
   "outputs": [
    {
     "name": "stdout",
     "output_type": "stream",
     "text": [
      "('carpenter', 'secondary school', 'part-time', 'only weekdays', 'wants to specialize in cabinetry', 'Construction Apprenticeships')\n",
      "('marketing', 'master degree', 'only weekends', 'only weekdays', 'aims to harness social media platforms', 'Manage finances for new business ventures')\n",
      "('hospitality', 'diploma', 'full-time', 'i already have a job', 'aspires to open a chain of cafes', 'Prepare to work safely in the construction industry')\n",
      "('construction', 'high school', 'part-time', 'full-time', 'wants to master brick laying techniques', 'Builder Restricted licences')\n",
      "('electrician', 'master degree', 'part-time', 'only weekends', 'keen on renewable energy systems', 'Home Electrical Installation and Safety')\n",
      "('plumbing', 'diploma', 'only weekends', 'only weekdays', 'wishes to understand sewage systems better', 'Plumbing Business Management and Operations')\n",
      "('painting', 'bachelor degree', 'full-time', 'part-time', 'dreams of having an art exhibition', 'Certificate IV in Building and Construction')\n",
      "('gardening', 'master degree', 'part-time', 'i already have a job', 'enthusiastic about botanical gardens', 'Certificate II in Engineering Pathways')\n",
      "('carpenter', 'diploma', 'full-time', 'part-time', 'wants to learn more about wood types', 'Construction Apprenticeships')\n",
      "('marketing', 'bachelor degree', 'full-time', 'only weekdays', 'wishes to improve SEO strategies', 'Manage finances for new business ventures')\n",
      "('hospitality', 'secondary school', 'part-time', 'only weekends', 'aims to be a top chef', 'Prepare to work safely in the construction industry')\n",
      "('construction', 'diploma', 'only weekends', 'only weekdays', 'enthusiastic about urban planning', 'Builder Restricted licences')\n",
      "('electrician', 'high school', 'full-time', 'i already have a job', 'wants to specialize in electronics repair', 'Home Electrical Installation and Safety')\n",
      "('plumbing', 'bachelor degree', 'only weekends', 'full-time', 'aims for international plumbing standards', 'Plumbing Business Management and Operations')\n",
      "('painting', 'master degree', 'full-time', 'only weekends', 'wishes to learn fresco techniques', 'Certificate IV in Building and Construction')\n",
      "('gardening', 'high school', 'part-time', 'only weekdays', 'dreams of starting an organic farm', 'Certificate II in Engineering Pathways')\n",
      "('carpenter', 'high school', 'full-time', 'only weekdays', 'interested in house framing', 'Construction Apprenticeships')\n",
      "('marketing', 'high school', 'part-time', 'i already have a job', 'wants to understand consumer behavior', 'Manage finances for new business ventures')\n",
      "('hospitality', 'bachelor degree', 'only weekends', 'only weekdays', 'aspires to manage a hotel chain', 'Prepare to work safely in the construction industry')\n",
      "('construction', 'diploma', 'part-time', 'only weekends', 'hopes to become a site manager', 'Builder Restricted licences')\n",
      "('electrician', 'high school', 'full-time', 'part-time', 'aiming to work in industrial settings', 'Home Electrical Installation and Safety')\n",
      "('plumbing', 'bachelor degree', 'only weekends', 'only weekdays', 'dreams of starting a plumbing business', 'Plumbing Business Management and Operations')\n",
      "('painting', 'diploma', 'part-time', 'i already have a job', 'enthusiastic about mural art', 'Certificate IV in Building and Construction')\n",
      "('gardening', 'secondary school', 'full-time', 'only weekends', 'interested in organic farming', 'Certificate II in Engineering Pathways')\n",
      "('carpenter', 'diploma', 'full-time', 'full-time', 'passionate about furniture design', 'Construction Apprenticeships')\n",
      "('marketing', 'bachelor degree', 'part-time', 'part-time', 'wants to explore digital advertising', 'Manage finances for new business ventures')\n",
      "('hospitality', 'high school', 'only weekends', 'i already have a job', 'enthusiastic about event management', 'Prepare to work safely in the construction industry')\n",
      "('construction', 'secondary school', 'part-time', 'full-time', 'keen on infrastructure projects', 'Builder Restricted licences')\n",
      "('electrician', 'diploma', 'full-time', 'only weekends', 'focused on power plant operations', 'Home Electrical Installation and Safety')\n",
      "('plumbing', 'secondary school', 'part-time', 'i already have a job', 'aiming for large-scale projects', 'Plumbing Business Management and Operations')\n",
      "('painting', 'bachelor degree', 'only weekends', 'only weekdays', 'loves abstract art creation', 'Certificate IV in Building and Construction')\n",
      "('gardening', 'diploma', 'full-time', 'full-time', 'focused on urban gardening techniques', 'Certificate II in Engineering Pathways')\n",
      "('carpenter', 'high school', 'only weekends', 'full-time', 'dream of creating bespoke furniture', 'Construction Apprenticeships')\n",
      "('marketing', 'bachelor degree', 'full-time', 'only weekends', 'expand into international markets', 'Manage finances for new business ventures')\n",
      "('hospitality', 'diploma', 'part-time', 'i already have a job', 'focus on culinary arts', 'Prepare to work safely in the construction industry')\n",
      "('construction', 'high school', 'full-time', 'only weekdays', 'master modern construction tools', 'Builder Restricted licences')\n",
      "('electrician', 'diploma', 'only weekends', 'full-time', 'specialize in circuit designs', 'Home Electrical Installation and Safety')\n",
      "('plumbing', 'high school', 'part-time', 'only weekdays', 'create sustainable water systems', 'Plumbing Business Management and Operations')\n",
      "('painting', 'secondary school', 'full-time', 'i already have a job', 'learn advanced art techniques', 'Certificate IV in Building and Construction')\n",
      "('gardening', 'diploma', 'part-time', 'only weekdays', 'develop botanical gardens', 'Certificate II in Engineering Pathways')\n",
      "('carpenter', 'diploma', 'only weekends', 'part-time', 'aim for architectural woodwork', 'Construction Apprenticeships')\n",
      "('marketing', 'secondary school', 'full-time', 'only weekdays', 'develop a niche in influencer marketing', 'Manage finances for new business ventures')\n",
      "('hospitality', 'bachelor degree', 'part-time', 'only weekends', 'seeking to run a resort', 'Prepare to work safely in the construction industry')\n",
      "('construction', 'diploma', 'only weekends', 'i already have a job', 'build sustainable houses', 'Builder Restricted licences')\n",
      "('electrician', 'secondary school', 'part-time', 'full-time', 'understand power distribution', 'Home Electrical Installation and Safety')\n",
      "('plumbing', 'high school', 'only weekends', 'only weekdays', 'aim for eco-friendly solutions', 'Plumbing Business Management and Operations')\n",
      "('painting', 'diploma', 'full-time', 'only weekends', 'aspire to open an art school', 'Certificate IV in Building and Construction')\n",
      "('gardening', 'secondary school', 'part-time', 'only weekdays', 'learn more about exotic plants', 'Certificate II in Engineering Pathways')\n",
      "('carpenter', 'bachelor degree', 'only weekends', 'i already have a job', 'passion for vintage wood designs', 'Construction Apprenticeships')\n",
      "('marketing', 'diploma', 'part-time', 'full-time', 'dive into affiliate marketing', 'Manage finances for new business ventures')\n",
      "('hospitality', 'secondary school', 'full-time', 'part-time', 'specialize in front office operations', 'Prepare to work safely in the construction industry')\n",
      "('construction', 'diploma', 'only weekends', 'only weekdays', 'become a certified construction manager', 'Builder Restricted licences')\n",
      "('electrician', 'high school', 'part-time', 'only weekends', 'deep dive into electronic repairs', 'Home Electrical Installation and Safety')\n",
      "('plumbing', 'bachelor degree', 'full-time', 'part-time', 'create efficient drainage systems', 'Plumbing Business Management and Operations')\n",
      "('painting', 'diploma', 'only weekends', 'full-time', 'explore the world of digital art', 'Certificate IV in Building and Construction')\n",
      "('gardening', 'high school', 'part-time', 'only weekdays', 'discover medicinal plants', 'Certificate II in Engineering Pathways')\n",
      "('carpenter', 'high school', 'full-time', 'part-time', 'want to master woodwork', 'Construction Apprenticeships')\n",
      "('marketing', 'bachelor degree', 'part-time', 'only weekdays', 'aspire to start a marketing firm', 'Manage finances for new business ventures')\n",
      "('hospitality', 'diploma', 'only weekends', 'full-time', 'enhance customer service skills', 'Prepare to work safely in the construction industry')\n",
      "('construction', 'secondary school', 'full-time', 'i already have a job', 'increase my skillset', 'Builder Restricted licences')\n",
      "('electrician', 'diploma', 'part-time', 'only weekends', 'aim to have my own electrical business', 'Home Electrical Installation and Safety')\n",
      "('plumbing', 'high school', 'full-time', 'part-time', 'expand my plumbing knowledge', 'Plumbing Business Management and Operations')\n",
      "('painting', 'secondary school', 'only weekends', 'only weekdays', 'perfect my painting techniques', 'Certificate IV in Building and Construction')\n",
      "('gardening', 'diploma', 'part-time', 'full-time', 'establish a gardening firm', 'Certificate II in Engineering Pathways')\n",
      "('carpenter', 'diploma', 'part-time', 'i already have a job', 'seek specialization in wooden interiors', 'Construction Apprenticeships')\n",
      "('marketing', 'secondary school', 'only weekends', 'part-time', 'develop a career in digital marketing', 'Manage finances for new business ventures')\n",
      "('hospitality', 'bachelor degree', 'full-time', 'only weekdays', 'aim for hotel management', 'Prepare to work safely in the construction industry')\n",
      "('construction', 'high school', 'part-time', 'full-time', 'aspire for construction project management', 'Builder Restricted licences')\n",
      "('electrician', 'secondary school', 'full-time', 'i already have a job', 'looking for specialization in electronics', 'Home Electrical Installation and Safety')\n",
      "('plumbing', 'diploma', 'only weekends', 'part-time', 'want to enhance drainage solutions', 'Plumbing Business Management and Operations')\n",
      "('painting', 'high school', 'full-time', 'only weekends', 'aim to master mural painting', 'Certificate IV in Building and Construction')\n",
      "('gardening', 'secondary school', 'part-time', 'only weekdays', 'desire to learn about organic gardening', 'Certificate II in Engineering Pathways')\n",
      "('carpenter', 'bachelor degree', 'full-time', 'only weekends', 'interested in furniture making', 'Construction Apprenticeships')\n",
      "('marketing', 'diploma', 'part-time', 'full-time', 'want to dive into content marketing', 'Manage finances for new business ventures')\n",
      "('hospitality', 'secondary school', 'only weekends', 'part-time', 'focus on event management', 'Prepare to work safely in the construction industry')\n",
      "('construction', 'diploma', 'part-time', 'i already have a job', 'seeking advanced construction techniques', 'Builder Restricted licences')\n",
      "('electrician', 'high school', 'only weekends', 'full-time', 'interested in smart home installations', 'Home Electrical Installation and Safety')\n",
      "('plumbing', 'bachelor degree', 'full-time', 'only weekdays', 'aspire to handle major plumbing projects', 'Plumbing Business Management and Operations')\n",
      "('painting', 'diploma', 'only weekends', 'part-time', 'focus on art and aesthetics', 'Certificate IV in Building and Construction')\n",
      "('gardening', 'high school', 'full-time', 'i already have a job', 'love to study plant genetics', 'Certificate II in Engineering Pathways')\n",
      "('carpentry', 'high school', 'full-time', 'part-time', 'want to get into construction', 'Construction Apprenticeships')\n",
      "('electrical engineering', 'diploma', 'part-time', 'full-time', 'aspiring electrician', 'Home Electrical Installation and Safety')\n",
      "('plumbing', 'secondary school', 'full-time', 'unemployed', 'want to start my own plumbing business', 'Plumbing Business Management and Operations')\n",
      "('mechanical engineering', 'bachelor degree', 'part-time', 'part-time', 'enhance engineering skills', 'Certificate II in Engineering Pathways')\n",
      "('construction', 'diploma', 'only weekends', 'full-time', 'looking for promotion', 'Certificate IV in Building and Construction')\n",
      "('construction', 'bachelor degree', 'full-time', 'self-employed', 'get building license', 'Builder Restricted licences')\n",
      "('business', 'bachelor degree', 'part-time', 'full-time', 'want to start my own venture', 'Manage finances for new business ventures')\n",
      "('construction', 'high school', 'full-time', 'part-time', 'ensure safety at construction sites', 'Prepare to work safely in the construction industry')\n",
      "('construction management', 'master degree', 'part-time', 'full-time', 'aiming for a supervisory role', 'Site Supervisor Builder Low Rise')\n",
      "('metal fabrication', 'diploma', 'full-time', 'self-employed', 'expand skills in metal fabrication', 'Certificate III in Engineering Fabrication Trade (Boilermaking)')\n",
      "('welding', 'secondary school', 'part-time', 'full-time', 'develop a career in engineering fabrication', 'Certificate III in Engineering Fabrication Trade')\n",
      "('carpentry', 'high school', 'full-time', 'part-time', 'want to get into construction', 'Construction Apprenticeships')\n",
      "('electrical engineering', 'diploma', 'part-time', 'full-time', 'aspiring electrician', 'Home Electrical Installation and Safety')\n",
      "('plumbing', 'secondary school', 'full-time', 'unemployed', 'want to start my own plumbing business', 'Plumbing Business Management and Operations')\n",
      "('mechanical engineering', 'bachelor degree', 'part-time', 'part-time', 'enhance engineering skills', 'Certificate II in Engineering Pathways')\n",
      "('construction', 'diploma', 'only weekends', 'full-time', 'looking for promotion', 'Certificate IV in Building and Construction')\n",
      "('construction', 'bachelor degree', 'full-time', 'self-employed', 'get building license', 'Builder Restricted licences')\n",
      "('business', 'bachelor degree', 'part-time', 'full-time', 'want to start my own venture', 'Manage finances for new business ventures')\n",
      "('construction', 'high school', 'full-time', 'part-time', 'ensure safety at construction sites', 'Prepare to work safely in the construction industry')\n",
      "('construction management', 'master degree', 'part-time', 'full-time', 'aiming for a supervisory role', 'Site Supervisor Builder Low Rise')\n",
      "('metal fabrication', 'diploma', 'full-time', 'self-employed', 'expand skills in metal fabrication', 'Certificate III in Engineering Fabrication Trade (Boilermaking)')\n",
      "('welding', 'secondary school', 'part-time', 'full-time', 'develop a career in engineering fabrication', 'Certificate III in Engineering Fabrication Trade')\n",
      "('carpentry', 'diploma', 'part-time', 'part-time', 'aim to work in big construction firms', 'Construction Apprenticeships')\n",
      "('electrical basics', 'secondary school', 'full-time', 'self-employed', 'planning to open electrical shop', 'Home Electrical Installation and Safety')\n",
      "('plumbing and sanitation', 'high school', 'only weekends', 'self-employed', 'expand my plumbing services', 'Plumbing Business Management and Operations')\n",
      "('automotive engineering', 'diploma', 'full-time', 'part-time', 'aim to transition to general engineering', 'Certificate II in Engineering Pathways')\n",
      "('architecture', 'bachelor degree', 'part-time', 'full-time', 'looking for hands-on building experience', 'Certificate IV in Building and Construction')\n",
      "('construction planning', 'master degree', 'only weekends', 'self-employed', 'want to obtain more certifications', 'Builder Restricted licences')\n",
      "('entrepreneurship', 'master degree', 'part-time', 'full-time', 'prepare for my startup in construction', 'Manage finances for new business ventures')\n",
      "('construction equipment handling', 'high school', 'full-time', 'unemployed', 'need safety certifications', 'Prepare to work safely in the construction industry')\n",
      "('project management', 'bachelor degree', 'full-time', 'part-time', 'seeking leadership roles in construction', 'Site Supervisor Builder Low Rise')\n",
      "('machine handling', 'diploma', 'part-time', 'self-employed', 'want to expand into boilermaking', 'Certificate III in Engineering Fabrication Trade (Boilermaking)')\n"
     ]
    }
   ],
   "source": [
    "cursor = conn.cursor()\n",
    "\n",
    "# example query to fetch all records from the \"modelTraining\" table\n",
    "cursor.execute(\"SELECT * FROM modelTraining\")\n",
    "\n",
    "# fetch all the results from the previous query\n",
    "results = cursor.fetchall()\n",
    "\n",
    "# print each record from the results\n",
    "for row in results:\n",
    "    print(row)"
   ]
  },
  {
   "cell_type": "code",
   "execution_count": 14,
   "metadata": {},
   "outputs": [],
   "source": [
    "# convert the SQL results into a pandas dataframe\n",
    "df = pd.read_sql(\"SELECT * FROM modelTraining\", conn)"
   ]
  },
  {
   "cell_type": "code",
   "execution_count": 15,
   "metadata": {},
   "outputs": [
    {
     "data": {
      "text/html": [
       "<div>\n",
       "<style scoped>\n",
       "    .dataframe tbody tr th:only-of-type {\n",
       "        vertical-align: middle;\n",
       "    }\n",
       "\n",
       "    .dataframe tbody tr th {\n",
       "        vertical-align: top;\n",
       "    }\n",
       "\n",
       "    .dataframe thead th {\n",
       "        text-align: right;\n",
       "    }\n",
       "</style>\n",
       "<table border=\"1\" class=\"dataframe\">\n",
       "  <thead>\n",
       "    <tr style=\"text-align: right;\">\n",
       "      <th></th>\n",
       "      <th>interests</th>\n",
       "      <th>education</th>\n",
       "      <th>study_availability</th>\n",
       "      <th>work_availability</th>\n",
       "      <th>goals</th>\n",
       "      <th>recommendation</th>\n",
       "    </tr>\n",
       "  </thead>\n",
       "  <tbody>\n",
       "    <tr>\n",
       "      <th>0</th>\n",
       "      <td>carpenter</td>\n",
       "      <td>secondary school</td>\n",
       "      <td>part-time</td>\n",
       "      <td>only weekdays</td>\n",
       "      <td>wants to specialize in cabinetry</td>\n",
       "      <td>Construction Apprenticeships</td>\n",
       "    </tr>\n",
       "    <tr>\n",
       "      <th>1</th>\n",
       "      <td>marketing</td>\n",
       "      <td>master degree</td>\n",
       "      <td>only weekends</td>\n",
       "      <td>only weekdays</td>\n",
       "      <td>aims to harness social media platforms</td>\n",
       "      <td>Manage finances for new business ventures</td>\n",
       "    </tr>\n",
       "    <tr>\n",
       "      <th>2</th>\n",
       "      <td>hospitality</td>\n",
       "      <td>diploma</td>\n",
       "      <td>full-time</td>\n",
       "      <td>i already have a job</td>\n",
       "      <td>aspires to open a chain of cafes</td>\n",
       "      <td>Prepare to work safely in the construction ind...</td>\n",
       "    </tr>\n",
       "    <tr>\n",
       "      <th>3</th>\n",
       "      <td>construction</td>\n",
       "      <td>high school</td>\n",
       "      <td>part-time</td>\n",
       "      <td>full-time</td>\n",
       "      <td>wants to master brick laying techniques</td>\n",
       "      <td>Builder Restricted licences</td>\n",
       "    </tr>\n",
       "    <tr>\n",
       "      <th>4</th>\n",
       "      <td>electrician</td>\n",
       "      <td>master degree</td>\n",
       "      <td>part-time</td>\n",
       "      <td>only weekends</td>\n",
       "      <td>keen on renewable energy systems</td>\n",
       "      <td>Home Electrical Installation and Safety</td>\n",
       "    </tr>\n",
       "  </tbody>\n",
       "</table>\n",
       "</div>"
      ],
      "text/plain": [
       "      interests         education study_availability     work_availability  \\\n",
       "0     carpenter  secondary school          part-time         only weekdays   \n",
       "1     marketing     master degree      only weekends         only weekdays   \n",
       "2   hospitality           diploma          full-time  i already have a job   \n",
       "3  construction       high school          part-time             full-time   \n",
       "4   electrician     master degree          part-time         only weekends   \n",
       "\n",
       "                                     goals  \\\n",
       "0         wants to specialize in cabinetry   \n",
       "1   aims to harness social media platforms   \n",
       "2         aspires to open a chain of cafes   \n",
       "3  wants to master brick laying techniques   \n",
       "4         keen on renewable energy systems   \n",
       "\n",
       "                                      recommendation  \n",
       "0                       Construction Apprenticeships  \n",
       "1          Manage finances for new business ventures  \n",
       "2  Prepare to work safely in the construction ind...  \n",
       "3                        Builder Restricted licences  \n",
       "4            Home Electrical Installation and Safety  "
      ]
     },
     "execution_count": 15,
     "metadata": {},
     "output_type": "execute_result"
    }
   ],
   "source": [
    "df.head(5)"
   ]
  },
  {
   "cell_type": "markdown",
   "metadata": {},
   "source": [
    "### first: NLP for the \"future goals\" so we can process the words and its meaning"
   ]
  },
  {
   "cell_type": "code",
   "execution_count": 16,
   "metadata": {},
   "outputs": [
    {
     "name": "stderr",
     "output_type": "stream",
     "text": [
      "[nltk_data] Downloading package stopwords to\n",
      "[nltk_data]     /Users/ssanjua/nltk_data...\n",
      "[nltk_data]   Package stopwords is already up-to-date!\n",
      "[nltk_data] Downloading package wordnet to /Users/ssanjua/nltk_data...\n",
      "[nltk_data]   Package wordnet is already up-to-date!\n"
     ]
    },
    {
     "data": {
      "text/plain": [
       "True"
      ]
     },
     "execution_count": 16,
     "metadata": {},
     "output_type": "execute_result"
    }
   ],
   "source": [
    "# download necessary resources from nltk\n",
    "nltk.download('stopwords')\n",
    "nltk.download('wordnet')"
   ]
  },
  {
   "cell_type": "code",
   "execution_count": 17,
   "metadata": {},
   "outputs": [],
   "source": [
    "# initialize lemmatizer and set of stopwords\n",
    "lemmatizer = WordNetLemmatizer()\n",
    "stop_words = set(stopwords.words('english'))"
   ]
  },
  {
   "cell_type": "code",
   "execution_count": 19,
   "metadata": {},
   "outputs": [],
   "source": [
    "# function to preprocess text\n",
    "def preprocess_text(text):\n",
    "    # lowercase\n",
    "    text = text.lower()\n",
    "    \n",
    "    # remove special characters and numbers\n",
    "    text = re.sub(r'[^a-z\\s]', '', text)\n",
    "    \n",
    "    # tokenize the text and lemmatize tokens that are not stopwords\n",
    "    tokens = nltk.word_tokenize(text)\n",
    "    tokens = [lemmatizer.lemmatize(token) for token in tokens if token not in stop_words]\n",
    "    \n",
    "    return ' '.join(tokens)"
   ]
  },
  {
   "cell_type": "code",
   "execution_count": 20,
   "metadata": {},
   "outputs": [
    {
     "name": "stdout",
     "output_type": "stream",
     "text": [
      "want work outside people\n"
     ]
    }
   ],
   "source": [
    "# test preprocessing, if we did it right, here all the meaningless words like 'to' and 'and' should disappear\n",
    "sample_text = \"I want to work outside and with people\"\n",
    "print(preprocess_text(sample_text))"
   ]
  },
  {
   "cell_type": "code",
   "execution_count": 27,
   "metadata": {},
   "outputs": [],
   "source": [
    "# apply the preprocess_text function to every item in the \"goals\" column\n",
    "goals_processed = [preprocess_text(text) for text in df['goals']]\n",
    "\n",
    "# vectorize the processed goals using TF-IDF\n",
    "vectorizer = TfidfVectorizer()\n",
    "X_tfidf = vectorizer.fit_transform(goals_processed)"
   ]
  },
  {
   "cell_type": "code",
   "execution_count": 28,
   "metadata": {},
   "outputs": [],
   "source": [
    "# apply the text preprocessing to the \"goals\" column in the dataframe\n",
    "df['goals'] = df['goals'].apply(preprocess_text)"
   ]
  },
  {
   "cell_type": "markdown",
   "metadata": {},
   "source": [
    "#### now we will test the model and adjust the hyperparameters of the decision tree to approach good accuracy. Once the result is satisfactory, we will proceed to create the function for training."
   ]
  },
  {
   "cell_type": "code",
   "execution_count": 44,
   "metadata": {},
   "outputs": [
    {
     "name": "stdout",
     "output_type": "stream",
     "text": [
      "Accuracy: 92.86%\n",
      "\n",
      "Classification Report:\n",
      "                                                      precision    recall  f1-score   support\n",
      "\n",
      "                        Builder Restricted licences       1.00      1.00      1.00         2\n",
      "             Certificate II in Engineering Pathways       1.00      1.00      1.00         3\n",
      "   Certificate III in Engineering Fabrication Trade       0.00      0.00      0.00         1\n",
      "        Certificate IV in Building and Construction       1.00      1.00      1.00         2\n",
      "                       Construction Apprenticeships       1.00      1.00      1.00         4\n",
      "            Home Electrical Installation and Safety       1.00      0.83      0.91         6\n",
      "          Manage finances for new business ventures       0.60      1.00      0.75         3\n",
      "        Plumbing Business Management and Operations       1.00      1.00      1.00         2\n",
      "Prepare to work safely in the construction industry       1.00      1.00      1.00         5\n",
      "\n",
      "                                           accuracy                           0.93        28\n",
      "                                          macro avg       0.84      0.87      0.85        28\n",
      "                                       weighted avg       0.92      0.93      0.92        28\n",
      "\n"
     ]
    }
   ],
   "source": [
    "# convert categorical variables to numerical format\n",
    "features = df.drop(columns=['recommendation', 'goals'])\n",
    "target = df['recommendation']\n",
    "\n",
    "# convert categorical variables to numerical format\n",
    "encoder = OneHotEncoder(drop='first')\n",
    "X_categorical = encoder.fit_transform(features).toarray()\n",
    "X = hstack([X_categorical, X_tfidf]).toarray()\n",
    "y = target\n",
    "\n",
    "# split the data into training and test sets\n",
    "X_train, X_test, y_train, y_test = train_test_split(X, y, test_size=0.25, random_state=42)\n",
    "\n",
    "# train a decision tree classifier\n",
    "clf = DecisionTreeClassifier(max_depth=12)\n",
    "clf.fit(X_train, y_train)\n",
    "\n",
    "# make predictions on the test set\n",
    "y_pred = clf.predict(X_test)\n",
    "\n",
    "# evaluate the performance of the classifier\n",
    "accuracy = accuracy_score(y_test, y_pred)\n",
    "print(f\"Accuracy: {accuracy*100:.2f}%\")\n",
    "print(\"\\nClassification Report:\\n\", classification_report(y_test, y_pred))\n"
   ]
  },
  {
   "cell_type": "code",
   "execution_count": 32,
   "metadata": {},
   "outputs": [],
   "source": [
    "def train_model(data):\n",
    "    \n",
    "    # preprocess the 'goals' column from the data using the preprocess_text function\n",
    "    goals_processed = [preprocess_text(text) for text in df['goals']]\n",
    "    # vectorize the processed goals using TF-IDF (Term Frequency-Inverse Document Frequency)\n",
    "    vectorizer = TfidfVectorizer()\n",
    "    X_tfidf = vectorizer.fit_transform(goals_processed)\n",
    "    \n",
    "    # drop the 'recommendation' column to get the feature set\n",
    "    features = df.drop(columns=['recommendation'])\n",
    "    target = df['recommendation']\n",
    "\n",
    "    # convert categorical variables to numerical format using One-Hot Encoding\n",
    "    features_without_goals = features.drop(columns=['goals'])\n",
    "    encoder = OneHotEncoder(drop='first', handle_unknown='ignore')\n",
    "    X_categorical = encoder.fit_transform(features_without_goals).toarray()\n",
    "\n",
    "    # combine categorical features with the TF-IDF matrix for goals\n",
    "    X = hstack([X_categorical, X_tfidf]).toarray()\n",
    "    y = target\n",
    "\n",
    "    # split the data into training and testing sets\n",
    "    X_train, X_test, y_train, y_test = train_test_split(X, y, test_size=0.2, random_state=42)\n",
    "\n",
    "    # train a decision tree classifier\n",
    "    clf = DecisionTreeClassifier(max_depth=15)\n",
    "    clf.fit(X_train, y_train)\n",
    "\n",
    "    return encoder, vectorizer, clf\n"
   ]
  },
  {
   "cell_type": "code",
   "execution_count": 34,
   "metadata": {},
   "outputs": [
    {
     "name": "stdout",
     "output_type": "stream",
     "text": [
      "Certificate IV in Building and Construction\n"
     ]
    }
   ],
   "source": [
    "def recommend_course(interests, education, study_availability, work_availability, goals, encoder, vectorizer, clf):\n",
    "\n",
    "    # process the goals input using the preprocess_text function\n",
    "    goals_processed = preprocess_text(goals)\n",
    "    \n",
    "    # vectorize the processed goals using the pre-trained TF-IDF vectorizer\n",
    "    goals_vectorized = vectorizer.transform([goals_processed])\n",
    "\n",
    "    # construct a DataFrame for the user's provided data\n",
    "    user_data = pd.DataFrame({\n",
    "        'interests': [interests],\n",
    "        'education': [education],\n",
    "        'study_availability': [study_availability],\n",
    "        'work_availability': [work_availability],\n",
    "        'goals': [goals_processed]\n",
    "    })\n",
    "\n",
    "    # encode user's data to numerical format using the pre-trained encoder\n",
    "    user_encoded = encoder.transform(user_data.drop(columns=['goals'])).toarray()\n",
    "\n",
    "    # combine the encoded categorical features with the TF-IDF vector of goals\n",
    "    user_combined = np.hstack([user_encoded, goals_vectorized.toarray()])\n",
    "\n",
    "    # predict the course recommendation using the trained classifier\n",
    "    recommendation = clf.predict(user_combined)\n",
    "\n",
    "    return recommendation[0]\n",
    "\n",
    "encoder, vectorizer, clf = train_model(df)\n",
    "\n",
    "# To test the recommendation function, lets hardcode some data:\n",
    "course = recommend_course(\"painting\", \"masters\", \"part-time\", \"full-time\", \"become more human\", encoder, vectorizer, clf)\n",
    "print(course)\n"
   ]
  },
  {
   "cell_type": "code",
   "execution_count": null,
   "metadata": {},
   "outputs": [],
   "source": [
    "# saving trained models using joblib\n",
    "\n",
    "from joblib import dump, load\n",
    "\n",
    "encoder, vectorizer, clf = train_model(df)\n",
    "\n",
    "dump(encoder, 'encoder.joblib')\n",
    "dump(vectorizer, 'vectorizer.joblib')\n",
    "dump(clf, 'clf.joblib')"
   ]
  },
  {
   "cell_type": "code",
   "execution_count": 46,
   "metadata": {},
   "outputs": [],
   "source": [
    "# now we close the db connection\n",
    "conn.close()"
   ]
  },
  {
   "cell_type": "code",
   "execution_count": null,
   "metadata": {},
   "outputs": [],
   "source": []
  }
 ],
 "metadata": {
  "kernelspec": {
   "display_name": "Python 3",
   "language": "python",
   "name": "python3"
  },
  "language_info": {
   "codemirror_mode": {
    "name": "ipython",
    "version": 3
   },
   "file_extension": ".py",
   "mimetype": "text/x-python",
   "name": "python",
   "nbconvert_exporter": "python",
   "pygments_lexer": "ipython3",
   "version": "3.11.1"
  },
  "orig_nbformat": 4
 },
 "nbformat": 4,
 "nbformat_minor": 2
}
